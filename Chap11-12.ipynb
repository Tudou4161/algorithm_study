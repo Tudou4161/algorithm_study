{
 "metadata": {
  "language_info": {
   "codemirror_mode": {
    "name": "ipython",
    "version": 3
   },
   "file_extension": ".py",
   "mimetype": "text/x-python",
   "name": "python",
   "nbconvert_exporter": "python",
   "pygments_lexer": "ipython3",
   "version": "3.8.2-final"
  },
  "orig_nbformat": 2,
  "kernelspec": {
   "name": "Python 3.8.2 64-bit",
   "display_name": "Python 3.8.2 64-bit",
   "metadata": {
    "interpreter": {
     "hash": "2db524e06e9f5f4ffedc911c917cb75e12dbc923643829bf417064a77eb14d37"
    }
   }
  }
 },
 "nbformat": 4,
 "nbformat_minor": 2,
 "cells": [
  {
   "cell_type": "code",
   "execution_count": 4,
   "metadata": {},
   "outputs": [
    {
     "output_type": "stream",
     "name": "stdout",
     "text": [
      "0\n"
     ]
    }
   ],
   "source": [
    "#Q1. 모험가 길드\n",
    "n = int(input())\n",
    "data = list(map(int, input().split()))\n",
    "data.sort() #데이터 오름차순 정렬\n",
    "\n",
    "res = 0 #총 그룹 수\n",
    "cnt = 0 #모험자 그룹 멤버 수\n",
    "\n",
    "#루프를 돌면서, 각 원소를 기준으로 추산할 수 있는 총 그룹 수를 반환한다.\n",
    "for i in data:\n",
    "    cnt += 1\n",
    "    if cnt >= i: #만약, 현재의 공포심 수준이 멤버 수를 넘는다면...\n",
    "        res += 1\n",
    "        cnt = 0\n",
    "print(result)"
   ]
  },
  {
   "cell_type": "code",
   "execution_count": 35,
   "metadata": {},
   "outputs": [
    {
     "output_type": "stream",
     "name": "stdout",
     "text": [
      "576\n"
     ]
    }
   ],
   "source": [
    "#Q2. 곱하기 혹은 더하기 (내 풀이) -> 1까지 처리하기 힘듦 -> 오답이다!\n",
    "input_str = input()\n",
    "data = list(map(int, input_str))\n",
    "data.sort()\n",
    "\n",
    "res = 0\n",
    "zero_to_num = 0\n",
    "\n",
    "if 0 in data:\n",
    "    for elem in data:\n",
    "        if elem != 0 and elem != 1:\n",
    "            break\n",
    "        zero_to_num += 1\n",
    "\n",
    "    res += (data[0] + data[zero_to_num])\n",
    "\n",
    "for elem in data[zero_to_num+1:]:\n",
    "    res *= elem  \n",
    "\n",
    "print(res)"
   ]
  },
  {
   "cell_type": "code",
   "execution_count": 36,
   "metadata": {},
   "outputs": [
    {
     "output_type": "stream",
     "name": "stdout",
     "text": [
      "576\n"
     ]
    }
   ],
   "source": [
    "#Q2. 곱하기 혹은 더하기 (정답풀이) -> 쉽게 해결할 수 있었는데..ㄲㅂ\n",
    "\n",
    "data = input()\n",
    "\n",
    "res = int(data[0])\n",
    "\n",
    "for i in range(1, len(data)):\n",
    "    num = int(data[i])\n",
    "    if num <= 1 or res <= 1:\n",
    "        res += num\n",
    "    else:\n",
    "        res *= num\n",
    "print(res)"
   ]
  },
  {
   "cell_type": "code",
   "execution_count": null,
   "metadata": {},
   "outputs": [],
   "source": [
    "#Q10. 자물쇠와 열쇠\n",
    "def rotate_a_matrix_by_90_degree(a):\n",
    "    #행, 열 길이 계산\n",
    "    #빈 열쇠 리스트 작성\n",
    "    #루프 돌려서 열쇠를 90도 방향으로 회전시킬 것\n",
    "    pass\n",
    "\n",
    "def check(new_lock):\n",
    "    #3배 커진 자물쇠 길이를 3분의1로 축소 시켜야함\n",
    "    #새로 받은 자물쇠의 위치가 1이 아니면, False - 맞으면, True\n",
    "    pass\n",
    "\n",
    "def solution(key, lock):\n",
    "    #자물쇠의 크기를 기존의 3배로 반환\n",
    "    #새로운 자물쇠의 중앙 부분에 기존의 자물쇠 넣기\n",
    "    #4방향 모두 루프문으로 확인할 것!\n",
    "        #자물쇠에 열쇠 끼워넣기\n",
    "        #새로운 자물쇠에 열쇠가 정확히 맞는지 확인\n",
    "        #자물쇠에서 열쇠 다시 빼기\n",
    "    #모두 해당사항 없으면 False를 리턴한다.\n",
    "    pass\n",
    "\n",
    "for rotation in range(4):\n"
   ]
  },
  {
   "cell_type": "code",
   "execution_count": 11,
   "metadata": {},
   "outputs": [
    {
     "output_type": "stream",
     "name": "stdout",
     "text": [
      "[[0, 1, 0], [1, 0, 0], [1, 0, 0]]\n"
     ]
    }
   ],
   "source": [
    "#2차원 리스트 90도 회전시키기\n",
    "a = [[0, 0, 0], \n",
    "    [1, 0, 0],\n",
    "    [0, 1, 1]]\n",
    "\n",
    "n = len(a) #행 길이 계산\n",
    "m = len(a[0]) #열 길이 계산\n",
    "\n",
    "res = [[0] * n for _ in range(m)] #결과 리스트\n",
    "\n",
    "for i in range(n):\n",
    "    for k in range(m):\n",
    "        res[k][n-i-1] = a[i][k]\n",
    "print(res)\n"
   ]
  },
  {
   "cell_type": "code",
   "execution_count": null,
   "metadata": {},
   "outputs": [],
   "source": []
  }
 ]
}