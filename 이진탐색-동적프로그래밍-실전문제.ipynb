{
 "metadata": {
  "language_info": {
   "codemirror_mode": {
    "name": "ipython",
    "version": 3
   },
   "file_extension": ".py",
   "mimetype": "text/x-python",
   "name": "python",
   "nbconvert_exporter": "python",
   "pygments_lexer": "ipython3",
   "version": "3.8.2-final"
  },
  "orig_nbformat": 2,
  "kernelspec": {
   "name": "Python 3.8.2 64-bit",
   "display_name": "Python 3.8.2 64-bit",
   "metadata": {
    "interpreter": {
     "hash": "2db524e06e9f5f4ffedc911c917cb75e12dbc923643829bf417064a77eb14d37"
    }
   }
  }
 },
 "nbformat": 4,
 "nbformat_minor": 2,
 "cells": [
  {
   "cell_type": "code",
   "execution_count": 1,
   "metadata": {},
   "outputs": [
    {
     "output_type": "stream",
     "name": "stdout",
     "text": [
      "4\n"
     ]
    }
   ],
   "source": [
    "#Q27. 정렬된 배열에서 특정 수의 개수 구하기\n",
    "from bisect import bisect_left, bisect_right\n",
    "\n",
    "def get_by_range(arr, x):\n",
    "    left = bisect_left(arr, x)\n",
    "    right = bisect_right(arr, x)\n",
    "    return right - left\n",
    "\n",
    "if __name__ == \"__main__\":\n",
    "    n, x = map(int, input().split())\n",
    "    arr = list(map(int, input().split()))\n",
    "\n",
    "    cnt = get_by_range(arr, x)\n",
    "\n",
    "    if cnt == None:\n",
    "        print(-1)\n",
    "    else:\n",
    "        print(cnt)"
   ]
  },
  {
   "cell_type": "code",
   "execution_count": 14,
   "metadata": {},
   "outputs": [
    {
     "output_type": "stream",
     "name": "stdout",
     "text": [
      "2\n"
     ]
    }
   ],
   "source": [
    "#Q28. 고정점 찾기 (내 풀이...틀림..)\n",
    "\n",
    "# n = int(input())\n",
    "# arr = list(map(int, input().split()))\n",
    "\n",
    "n = 7\n",
    "arr = [-15, -4, 2, 8, 9, 13, 15]\n",
    "\n",
    "idx = 0\n",
    "for elem in arr:\n",
    "    if arr[idx] == arr.index(elem):\n",
    "        print(arr[idx])\n",
    "        break\n",
    "    else:\n",
    "        idx += 1"
   ]
  },
  {
   "cell_type": "code",
   "execution_count": 17,
   "metadata": {},
   "outputs": [
    {
     "output_type": "stream",
     "name": "stdout",
     "text": [
      "3\n"
     ]
    }
   ],
   "source": [
    "#Q28. 고정점 찾기 (정답 풀이...ㅆㅂ..)\n",
    "def binary_search(arr, start, end):\n",
    "    if start > end:\n",
    "        return None\n",
    "    mid = (start + end) // 2\n",
    "    if arr[mid] == mid:\n",
    "        return mid\n",
    "    elif arr[mid] > mid:\n",
    "        return binary_search(arr, start, mid-1)\n",
    "    else:\n",
    "        return binary_search(arr, mid+1, end)\n",
    "\n",
    "if __name__ == '__main__':\n",
    "    n = int(input())\n",
    "    arr = list(map(int, input().split()))\n",
    "\n",
    "    index = binary_search(arr, 0, n-1)\n",
    "\n",
    "    if index == None:\n",
    "        print(-1)\n",
    "    else:\n",
    "        print(index)"
   ]
  }
 ]
}