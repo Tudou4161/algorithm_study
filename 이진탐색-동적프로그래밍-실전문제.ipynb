{
 "metadata": {
  "language_info": {
   "codemirror_mode": {
    "name": "ipython",
    "version": 3
   },
   "file_extension": ".py",
   "mimetype": "text/x-python",
   "name": "python",
   "nbconvert_exporter": "python",
   "pygments_lexer": "ipython3",
   "version": "3.8.2-final"
  },
  "orig_nbformat": 2,
  "kernelspec": {
   "name": "Python 3.8.2 64-bit",
   "display_name": "Python 3.8.2 64-bit",
   "metadata": {
    "interpreter": {
     "hash": "2db524e06e9f5f4ffedc911c917cb75e12dbc923643829bf417064a77eb14d37"
    }
   }
  }
 },
 "nbformat": 4,
 "nbformat_minor": 2,
 "cells": [
  {
   "cell_type": "code",
   "execution_count": 1,
   "metadata": {},
   "outputs": [
    {
     "output_type": "stream",
     "name": "stdout",
     "text": [
      "4\n"
     ]
    }
   ],
   "source": [
    "#Q27. 정렬된 배열에서 특정 수의 개수 구하기\n",
    "from bisect import bisect_left, bisect_right\n",
    "\n",
    "def get_by_range(arr, x):\n",
    "    left = bisect_left(arr, x)\n",
    "    right = bisect_right(arr, x)\n",
    "    return right - left\n",
    "\n",
    "if __name__ == \"__main__\":\n",
    "    n, x = map(int, input().split())\n",
    "    arr = list(map(int, input().split()))\n",
    "\n",
    "    cnt = get_by_range(arr, x)\n",
    "\n",
    "    if cnt == None:\n",
    "        print(-1)\n",
    "    else:\n",
    "        print(cnt)"
   ]
  },
  {
   "cell_type": "code",
   "execution_count": 14,
   "metadata": {},
   "outputs": [
    {
     "output_type": "stream",
     "name": "stdout",
     "text": [
      "2\n"
     ]
    }
   ],
   "source": [
    "#Q28. 고정점 찾기 (내 풀이...틀림..)\n",
    "\n",
    "# n = int(input())\n",
    "# arr = list(map(int, input().split()))\n",
    "\n",
    "n = 7\n",
    "arr = [-15, -4, 2, 8, 9, 13, 15]\n",
    "\n",
    "idx = 0\n",
    "for elem in arr:\n",
    "    if arr[idx] == arr.index(elem):\n",
    "        print(arr[idx])\n",
    "        break\n",
    "    else:\n",
    "        idx += 1"
   ]
  },
  {
   "cell_type": "code",
   "execution_count": 1,
   "metadata": {},
   "outputs": [
    {
     "output_type": "stream",
     "name": "stdout",
     "text": [
      "-1\n"
     ]
    }
   ],
   "source": [
    "#Q28. 고정점 찾기 (정답 풀이...ㅆㅂ..)\n",
    "def binary_search(arr, start, end):\n",
    "    if start > end:\n",
    "        return None\n",
    "    mid = (start + end) // 2\n",
    "    if arr[mid] == mid:\n",
    "        return mid\n",
    "    elif arr[mid] > mid:\n",
    "        return binary_search(arr, start, mid-1)\n",
    "    else:\n",
    "        return binary_search(arr, mid+1, end)\n",
    "\n",
    "if __name__ == '__main__':\n",
    "    n = int(input())\n",
    "    arr = list(map(int, input().split()))\n",
    "\n",
    "    index = binary_search(arr, 0, n-1)\n",
    "\n",
    "    if index == None:\n",
    "        print(-1)\n",
    "    else:\n",
    "        print(index)"
   ]
  },
  {
   "cell_type": "code",
   "execution_count": 6,
   "metadata": {},
   "outputs": [
    {
     "output_type": "stream",
     "name": "stdout",
     "text": [
      "초기 입력 배열: [1, 3, 3, 2, 2, 1, 4, 1, 0, 6, 4, 7]\nDP테이블 초기화: [[1, 3, 3, 2], [2, 1, 4, 1], [0, 6, 4, 7]]\nDP테이블 완성:  [[1, 5, 8, 14], [2, 3, 12, 13], [0, 8, 12, 19]]\n19\n"
     ]
    }
   ],
   "source": [
    "#Q31. 금광\n",
    "for tc in range(int(input())):\n",
    "    n, m = map(int, input().split())\n",
    "    arr = list(map(int, input().split()))\n",
    "    print(\"초기 입력 배열:\", arr)\n",
    "\n",
    "    dp = []\n",
    "    idx = 0\n",
    "    for i in range(n):\n",
    "        dp.append(arr[idx : idx+m])\n",
    "        idx += m\n",
    "    print(\"DP테이블 초기화:\" , dp)\n",
    "\n",
    "    for j in range(1, m):\n",
    "        for i in range(n):\n",
    "            #left_up 초기화\n",
    "            if i == 0:\n",
    "                left_up = 0\n",
    "            else:\n",
    "                left_up = dp[i-1][j-1]\n",
    "            #left_down 초기화\n",
    "            if i == n-1 :\n",
    "                left_down = 0 \n",
    "            else:\n",
    "                left_down = dp[i+1][j-1]\n",
    "            #left 정방향 초기화\n",
    "            left = dp[i][j-1]\n",
    "            #세 방향 모두 고려해서, 최대값을 현재 위치에 넣어준다.\n",
    "            dp[i][j] = dp[i][j] + max(left_up, left_down, left)\n",
    "\n",
    "    print(\"DP테이블 완성: \", dp)\n",
    "\n",
    "    res = 0\n",
    "    for i in range(n):\n",
    "        res =  max(res, dp[i][m-1]) #각 행의 마지막에 위치한 원소의 값들과 res변수를 비교해서 최대값을 출력할 수 있도록 한다.\n",
    "\n",
    "    print(res)"
   ]
  },
  {
   "cell_type": "code",
   "execution_count": 11,
   "metadata": {},
   "outputs": [
    {
     "output_type": "stream",
     "name": "stdout",
     "text": [
      "30\n"
     ]
    }
   ],
   "source": [
    "#Q32. 정수삼각형\n",
    "n = int(input())\n",
    "\n",
    "dp = []\n",
    "for _ in range(n):\n",
    "    dp.append(list(map(int, input().split())))\n",
    "\n",
    "for i in range(1, n):\n",
    "    for j in range(i + 1):\n",
    "        if j == 0:\n",
    "            up_left = 0\n",
    "        else:\n",
    "            up_left = dp[i-1][j-1]\n",
    "\n",
    "        if j == i:\n",
    "            up = 0\n",
    "        else:\n",
    "            up = dp[i-1][j]\n",
    "\n",
    "        dp[i][j] = dp[i][j] + max(up_left, up)\n",
    "\n",
    "print(max(dp[n-1]))"
   ]
  },
  {
   "cell_type": "code",
   "execution_count": null,
   "metadata": {},
   "outputs": [],
   "source": []
  }
 ]
}