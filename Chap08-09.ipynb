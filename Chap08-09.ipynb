{
 "metadata": {
  "language_info": {
   "codemirror_mode": {
    "name": "ipython",
    "version": 3
   },
   "file_extension": ".py",
   "mimetype": "text/x-python",
   "name": "python",
   "nbconvert_exporter": "python",
   "pygments_lexer": "ipython3",
   "version": "3.8.2-final"
  },
  "orig_nbformat": 2,
  "kernelspec": {
   "name": "Python 3.8.2 64-bit",
   "display_name": "Python 3.8.2 64-bit",
   "metadata": {
    "interpreter": {
     "hash": "2db524e06e9f5f4ffedc911c917cb75e12dbc923643829bf417064a77eb14d37"
    }
   }
  }
 },
 "nbformat": 4,
 "nbformat_minor": 2,
 "cells": [
  {
   "cell_type": "code",
   "execution_count": 4,
   "metadata": {},
   "outputs": [
    {
     "output_type": "stream",
     "name": "stdout",
     "text": [
      "218922995834555169026\n"
     ]
    }
   ],
   "source": [
    "#동적프로그래밍\n",
    "#큰 문제를 작은 문제로 나눌 수 있다.\n",
    "#작은 문제에서 구한 정답은 그것을 포함하는 큰 문제에도 동일하게 적용된다\n",
    "#중복되는 부분문제가 있고, 최적 부분 구조가 존재한다면 다이나믹 프로그래밍으로 해결해야한다.\n",
    "\n",
    "#피보나치 수열 문제 \n",
    "#메모이제이션으로 구현 -> 한 번 계산된 결과를 메모리 공간에 메모하는 기법\n",
    "\n",
    "d = [0] * 100  #메모이제이션(top-down)을 위해 빈 배열 선언(캐싱할 배열)\n",
    "\n",
    "def fibonacci(x):\n",
    "    if x == 1 or x == 2: #기저조건 설정이 매우 중요!\n",
    "        return 1\n",
    "    if d[x] != 0: #이미 계산한 적 있는 문제라면 그대로 반환한다.\n",
    "        return d[x]\n",
    "    #새로운 문제를 해결해야한다면, 점화식에 따라서 피보나치 결과를 반환한다.\n",
    "    d[x] = fibonacci(x-1) + fibonacci(x-2)\n",
    "    return d[x]\n",
    "\n",
    "if __name__ == \"__main__\":\n",
    "    print(fibonacci(99))"
   ]
  },
  {
   "cell_type": "code",
   "execution_count": 5,
   "metadata": {},
   "outputs": [
    {
     "output_type": "stream",
     "name": "stdout",
     "text": [
      "218922995834555169026\n"
     ]
    }
   ],
   "source": [
    "#bottom-up방식의 피보나치 구현\n",
    "d = [0] * 100\n",
    "d[1] = 1\n",
    "d[2] = 1\n",
    "n = 99\n",
    "\n",
    "for i in range(3, n+1):\n",
    "    d[i] = d[i-1] + d[i-2]\n",
    "\n",
    "print(d[n])"
   ]
  },
  {
   "cell_type": "code",
   "execution_count": 6,
   "metadata": {},
   "outputs": [
    {
     "output_type": "stream",
     "name": "stdout",
     "text": [
      "f(6) f(5) f(4) f(3) f(2) f(1) f(2) f(3) f(4) "
     ]
    },
    {
     "output_type": "execute_result",
     "data": {
      "text/plain": [
       "8"
      ]
     },
     "metadata": {},
     "execution_count": 6
    }
   ],
   "source": [
    "#메모이제이션 동작과정 출력하기\n",
    "\n",
    "d = [0] * 100\n",
    "\n",
    "def fibonacci(x):\n",
    "    print('f(' + str(x) + ')', end=' ')\n",
    "    if x == 1 or x == 2:\n",
    "        return 1\n",
    "    if d[x] != 0:\n",
    "        return d[x]\n",
    "    d[x] = fibonacci(x-1) + fibonacci(x-2)\n",
    "    return d[x]\n",
    "\n",
    "fibonacci(6)"
   ]
  },
  {
   "cell_type": "code",
   "execution_count": 8,
   "metadata": {},
   "outputs": [
    {
     "output_type": "stream",
     "name": "stdout",
     "text": [
      "2\n"
     ]
    }
   ],
   "source": [
    "#1로 만들기\n",
    "x = int(input())\n",
    "d = [0] * 30001\n",
    "\n",
    "for i in range(2, x+1):\n",
    "    d[i] = d[i-1] + 1\n",
    "    if i % 2 == 0:\n",
    "        d[i] = min(d[i], d[i // 2] + 1)\n",
    "    if i % 3 == 0:\n",
    "        d[i] = min(d[i], d[i // 3] + 1)\n",
    "    if i % 5 == 0:\n",
    "        d[i] = min(d[i], d[i // 5] + 1)\n",
    "\n",
    "print(d[x])"
   ]
  },
  {
   "cell_type": "code",
   "execution_count": 7,
   "metadata": {},
   "outputs": [
    {
     "output_type": "stream",
     "name": "stdout",
     "text": [
      "8\n"
     ]
    }
   ],
   "source": [
    "#개미전사 문제\n",
    "n = int(input())\n",
    "array = list(map(int, input().split()))\n",
    "\n",
    "d = [0] * 100\n",
    "\n",
    "d[0] = array[0] #첫번째 원소 입력\n",
    "d[1] = max(d[0], array[1]) #두번째 원소 입력\n",
    "for i in range(2, len(array)):\n",
    "    d[i] = max(d[i-1], d[i-2] + array[i]) #i-1, i-2+마지막원소 중 제일 큰 최적해를 출력\n",
    "\n",
    "print(d[n-1])"
   ]
  },
  {
   "cell_type": "code",
   "execution_count": null,
   "metadata": {},
   "outputs": [],
   "source": [
    "#바닥공사\n"
   ]
  },
  {
   "cell_type": "code",
   "execution_count": null,
   "metadata": {},
   "outputs": [],
   "source": [
    "#효율적인 화폐 구성\n",
    "#n,m 입력\n",
    "n, m = map(int, input().split())\n",
    "#화폐 단위 삽입\n",
    "arr = []\n",
    "for _ in range(n):\n",
    "    arr.append(int(input()))\n",
    "#한 번 계산된 결과를 저장하기 위한 dp테이블 초기화\n",
    "d = [10001] * (m+1)\n",
    "#다이나믹 프로그래밍 진행(보텀업)\n",
    "d[0] = 0\n",
    "for i in range(n):\n",
    "    for j in range(arr[i], m+1):\n",
    "        if d[j - arr[i]] != 10001: #(i-k)원을 만드는 방법이 존재하는 경우\n",
    "            d[j] = min(d[j], d[j - arr[i]] + 1)\n",
    "\n",
    "#계산된 결과 출력\n",
    "if d[m] == 10001: #최종적으로 m원을 만드는 방법이 없는 경우\n",
    "    print(-1)\n",
    "else:              \n",
    "    print(d[m])"
   ]
  },
  {
   "cell_type": "code",
   "execution_count": 14,
   "metadata": {},
   "outputs": [
    {
     "output_type": "stream",
     "name": "stdout",
     "text": [
      "19\n",
      "16\n"
     ]
    }
   ],
   "source": [
    "#금광문제\n",
    "for tc in range(int(input())):\n",
    "    n, m = map(int, input().split())\n",
    "    arr = list(map(int, input().split()))\n",
    "    dp = []\n",
    "    idx = 0\n",
    "    for _ in range(n):\n",
    "        dp.append(arr[idx:idx+m])\n",
    "        idx += m\n",
    "    for j in range(1, m): #행방향 탐색 (axis=0)\n",
    "        for k in range(n): #열방향 탐색(axis=1)\n",
    "            if k == 0:\n",
    "                left_up = 0\n",
    "            else:\n",
    "                left_up = dp[k-1][j-1]\n",
    "            if k == n - 1:\n",
    "                left_down = 0\n",
    "            else:\n",
    "                left_down = dp[k+1][j-1]\n",
    "            left = dp[k][j-1]\n",
    "            dp[k][j] = dp[k][j] + max(left_up, left_down, left)\n",
    "\n",
    "    result = 0\n",
    "    for x in range(n):\n",
    "        result = max(result, dp[x][m-1])\n",
    "    print(result)"
   ]
  },
  {
   "cell_type": "code",
   "execution_count": 15,
   "metadata": {},
   "outputs": [
    {
     "output_type": "stream",
     "name": "stdout",
     "text": [
      "2\n"
     ]
    }
   ],
   "source": [
    "#병사배치하기\n",
    "#아..진짜 도무지 알 수가 없다..........\n",
    "n = int(input())\n",
    "arr = list(map(int, input().split()))\n",
    "arr.reverse()\n",
    "\n",
    "dp = [1] * n\n",
    "\n",
    "for i in range(1, n):\n",
    "    for j in range(0, i):\n",
    "        if arr[j] < arr[i]:\n",
    "            dp[i] = max(dp[i], dp[j] + 1)\n",
    "print(n - max(dp))"
   ]
  }
 ]
}