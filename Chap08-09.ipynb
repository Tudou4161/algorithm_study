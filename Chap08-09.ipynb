{
 "metadata": {
  "language_info": {
   "codemirror_mode": {
    "name": "ipython",
    "version": 3
   },
   "file_extension": ".py",
   "mimetype": "text/x-python",
   "name": "python",
   "nbconvert_exporter": "python",
   "pygments_lexer": "ipython3",
   "version": "3.8.2-final"
  },
  "orig_nbformat": 2,
  "kernelspec": {
   "name": "Python 3.8.2 64-bit",
   "display_name": "Python 3.8.2 64-bit",
   "metadata": {
    "interpreter": {
     "hash": "2db524e06e9f5f4ffedc911c917cb75e12dbc923643829bf417064a77eb14d37"
    }
   }
  }
 },
 "nbformat": 4,
 "nbformat_minor": 2,
 "cells": [
  {
   "cell_type": "code",
   "execution_count": 4,
   "metadata": {},
   "outputs": [
    {
     "output_type": "stream",
     "name": "stdout",
     "text": [
      "218922995834555169026\n"
     ]
    }
   ],
   "source": [
    "#동적프로그래밍\n",
    "#큰 문제를 작은 문제로 나눌 수 있다.\n",
    "#작은 문제에서 구한 정답은 그것을 포함하는 큰 문제에도 동일하게 적용된다\n",
    "#중복되는 부분문제가 있고, 최적 부분 구조가 존재한다면 다이나믹 프로그래밍으로 해결해야한다.\n",
    "\n",
    "#피보나치 수열 문제 \n",
    "#메모이제이션으로 구현 -> 한 번 계산된 결과를 메모리 공간에 메모하는 기법\n",
    "\n",
    "d = [0] * 100  #메모이제이션(top-down)을 위해 빈 배열 선언(캐싱할 배열)\n",
    "\n",
    "def fibonacci(x):\n",
    "    if x == 1 or x == 2: #기저조건 설정이 매우 중요!\n",
    "        return 1\n",
    "    if d[x] != 0: #이미 계산한 적 있는 문제라면 그대로 반환한다.\n",
    "        return d[x]\n",
    "    #새로운 문제를 해결해야한다면, 점화식에 따라서 피보나치 결과를 반환한다.\n",
    "    d[x] = fibonacci(x-1) + fibonacci(x-2)\n",
    "    return d[x]\n",
    "\n",
    "if __name__ == \"__main__\":\n",
    "    print(fibonacci(99))"
   ]
  },
  {
   "cell_type": "code",
   "execution_count": 5,
   "metadata": {},
   "outputs": [
    {
     "output_type": "stream",
     "name": "stdout",
     "text": [
      "218922995834555169026\n"
     ]
    }
   ],
   "source": [
    "#bottom-up방식의 피보나치 구현\n",
    "d = [0] * 100\n",
    "d[1] = 1\n",
    "d[2] = 1\n",
    "n = 99\n",
    "\n",
    "for i in range(3, n+1):\n",
    "    d[i] = d[i-1] + d[i-2]\n",
    "\n",
    "print(d[n])"
   ]
  },
  {
   "cell_type": "code",
   "execution_count": 6,
   "metadata": {},
   "outputs": [
    {
     "output_type": "stream",
     "name": "stdout",
     "text": [
      "f(6) f(5) f(4) f(3) f(2) f(1) f(2) f(3) f(4) "
     ]
    },
    {
     "output_type": "execute_result",
     "data": {
      "text/plain": [
       "8"
      ]
     },
     "metadata": {},
     "execution_count": 6
    }
   ],
   "source": [
    "#메모이제이션 동작과정 출력하기\n",
    "\n",
    "d = [0] * 100\n",
    "\n",
    "def fibonacci(x):\n",
    "    print('f(' + str(x) + ')', end=' ')\n",
    "    if x == 1 or x == 2:\n",
    "        return 1\n",
    "    if d[x] != 0:\n",
    "        return d[x]\n",
    "    d[x] = fibonacci(x-1) + fibonacci(x-2)\n",
    "    return d[x]\n",
    "\n",
    "fibonacci(6)"
   ]
  },
  {
   "cell_type": "code",
   "execution_count": 8,
   "metadata": {},
   "outputs": [
    {
     "output_type": "error",
     "ename": "ValueError",
     "evalue": "invalid literal for int() with base 10: ''",
     "traceback": [
      "\u001b[1;31m---------------------------------------------------------------------------\u001b[0m",
      "\u001b[1;31mValueError\u001b[0m                                Traceback (most recent call last)",
      "\u001b[1;32m<ipython-input-8-6d36ea709123>\u001b[0m in \u001b[0;36m<module>\u001b[1;34m\u001b[0m\n\u001b[0;32m      1\u001b[0m \u001b[1;31m#1로 만들기\u001b[0m\u001b[1;33m\u001b[0m\u001b[1;33m\u001b[0m\u001b[1;33m\u001b[0m\u001b[0m\n\u001b[1;32m----> 2\u001b[1;33m \u001b[0mx\u001b[0m \u001b[1;33m=\u001b[0m \u001b[0mint\u001b[0m\u001b[1;33m(\u001b[0m\u001b[0minput\u001b[0m\u001b[1;33m(\u001b[0m\u001b[1;33m)\u001b[0m\u001b[1;33m)\u001b[0m\u001b[1;33m\u001b[0m\u001b[1;33m\u001b[0m\u001b[0m\n\u001b[0m\u001b[0;32m      3\u001b[0m \u001b[0md\u001b[0m \u001b[1;33m=\u001b[0m \u001b[1;33m[\u001b[0m\u001b[1;36m0\u001b[0m\u001b[1;33m]\u001b[0m \u001b[1;33m*\u001b[0m \u001b[1;36m30001\u001b[0m\u001b[1;33m\u001b[0m\u001b[1;33m\u001b[0m\u001b[0m\n\u001b[0;32m      4\u001b[0m \u001b[1;33m\u001b[0m\u001b[0m\n\u001b[0;32m      5\u001b[0m \u001b[1;32mfor\u001b[0m \u001b[0mi\u001b[0m \u001b[1;32min\u001b[0m \u001b[0mrange\u001b[0m\u001b[1;33m(\u001b[0m\u001b[1;36m2\u001b[0m\u001b[1;33m,\u001b[0m \u001b[0mx\u001b[0m\u001b[1;33m+\u001b[0m\u001b[1;36m1\u001b[0m\u001b[1;33m)\u001b[0m\u001b[1;33m:\u001b[0m\u001b[1;33m\u001b[0m\u001b[1;33m\u001b[0m\u001b[0m\n",
      "\u001b[1;31mValueError\u001b[0m: invalid literal for int() with base 10: ''"
     ]
    }
   ],
   "source": [
    "#1로 만들기\n",
    "x = int(input())\n",
    "d = [0] * 30001\n",
    "\n",
    "for i in range(2, x+1):\n",
    "    d[i] = d[i-1] + 1\n",
    "    if i % 2 == 0:\n",
    "        d[i] = min(d[i], d[i // 2] + 1)\n",
    "    if i % 3 == 0:\n",
    "        d[i] = min(d[i], d[i // 3] + 1)\n",
    "    if i % 5 == 0:\n",
    "        d[i] = min(d[i], d[i // 5] + 1)\n",
    "\n",
    "print(d[x])"
   ]
  },
  {
   "cell_type": "code",
   "execution_count": null,
   "metadata": {},
   "outputs": [],
   "source": [
    "#개미전사 문제\n",
    "n = int(input())\n",
    "array = list(map(int, input().split()))\n",
    "\n",
    "d = [0] * 100\n",
    "\n",
    "d[0] = array[0] #첫번째 원소 입력\n",
    "d[1] = max(d[0], array[1]) #두번째 원소 입력\n",
    "for i in range(2, len(array)):\n",
    "    d[i] = max(d[i-1], d[i-2] + array[i]) #i-1, i-2+마지막원소 중 제일 큰 최적해를 출력\n",
    "\n",
    "print(d[n-1])"
   ]
  },
  {
   "cell_type": "code",
   "execution_count": null,
   "metadata": {},
   "outputs": [],
   "source": [
    "#바닥공사\n"
   ]
  },
  {
   "cell_type": "code",
   "execution_count": 3,
   "metadata": {},
   "outputs": [
    {
     "output_type": "error",
     "ename": "ValueError",
     "evalue": "not enough values to unpack (expected 2, got 0)",
     "traceback": [
      "\u001b[1;31m---------------------------------------------------------------------------\u001b[0m",
      "\u001b[1;31mValueError\u001b[0m                                Traceback (most recent call last)",
      "\u001b[1;32m<ipython-input-3-cb3131c43c51>\u001b[0m in \u001b[0;36m<module>\u001b[1;34m\u001b[0m\n\u001b[0;32m      1\u001b[0m \u001b[1;31m#효율적인 화폐 구성\u001b[0m\u001b[1;33m\u001b[0m\u001b[1;33m\u001b[0m\u001b[1;33m\u001b[0m\u001b[0m\n\u001b[0;32m      2\u001b[0m \u001b[1;31m#n,m 입력\u001b[0m\u001b[1;33m\u001b[0m\u001b[1;33m\u001b[0m\u001b[1;33m\u001b[0m\u001b[0m\n\u001b[1;32m----> 3\u001b[1;33m \u001b[0mn\u001b[0m\u001b[1;33m,\u001b[0m \u001b[0mm\u001b[0m \u001b[1;33m=\u001b[0m \u001b[0mmap\u001b[0m\u001b[1;33m(\u001b[0m\u001b[0mint\u001b[0m\u001b[1;33m,\u001b[0m \u001b[0minput\u001b[0m\u001b[1;33m(\u001b[0m\u001b[1;33m)\u001b[0m\u001b[1;33m.\u001b[0m\u001b[0msplit\u001b[0m\u001b[1;33m(\u001b[0m\u001b[1;33m)\u001b[0m\u001b[1;33m)\u001b[0m\u001b[1;33m\u001b[0m\u001b[1;33m\u001b[0m\u001b[0m\n\u001b[0m\u001b[0;32m      4\u001b[0m \u001b[1;31m#화폐 단위 삽입\u001b[0m\u001b[1;33m\u001b[0m\u001b[1;33m\u001b[0m\u001b[1;33m\u001b[0m\u001b[0m\n\u001b[0;32m      5\u001b[0m \u001b[0marr\u001b[0m \u001b[1;33m=\u001b[0m \u001b[1;33m[\u001b[0m\u001b[1;33m]\u001b[0m\u001b[1;33m\u001b[0m\u001b[1;33m\u001b[0m\u001b[0m\n",
      "\u001b[1;31mValueError\u001b[0m: not enough values to unpack (expected 2, got 0)"
     ]
    }
   ],
   "source": [
    "#효율적인 화폐 구성\n",
    "#n,m 입력\n",
    "n, m = map(int, input().split())\n",
    "#화폐 단위 삽입\n",
    "arr = []\n",
    "for _ in range(n):\n",
    "    arr.append(int(input()))\n",
    "#한 번 계산된 결과를 저장하기 위한 dp테이블 초기화\n",
    "d = [10001] * (m+1)\n",
    "#다이나믹 프로그래밍 진행(보텀업)\n",
    "d[0] = 0\n",
    "for i in range(n):\n",
    "    for j in range(arr[i], m+1):\n",
    "        if d[j - arr[i]] != 10001: #(i-k)원을 만드는 방법이 존재하는 경우\n",
    "            d[j] = min(d[j], d[j - arr[i]] + 1)\n",
    "\n",
    "#계산된 결과 출력\n",
    "if d[m] == 10001: #최종적으로 m원을 만드는 방법이 없는 경우\n",
    "    print(-1)\n",
    "else:              \n",
    "    print(d[m])"
   ]
  },
  {
   "cell_type": "code",
   "execution_count": 14,
   "metadata": {},
   "outputs": [
    {
     "output_type": "stream",
     "name": "stdout",
     "text": [
      "19\n",
      "16\n"
     ]
    }
   ],
   "source": [
    "#금광문제\n",
    "for tc in range(int(input())):\n",
    "    n, m = map(int, input().split())\n",
    "    arr = list(map(int, input().split()))\n",
    "    dp = []\n",
    "    idx = 0\n",
    "    for _ in range(n):\n",
    "        dp.append(arr[idx:idx+m])\n",
    "        idx += m\n",
    "    for j in range(1, m): #행방향 탐색 (axis=0)\n",
    "        for k in range(n): #열방향 탐색(axis=1)\n",
    "            if k == 0:\n",
    "                left_up = 0\n",
    "            else:\n",
    "                left_up = dp[k-1][j-1]\n",
    "            if k == n - 1:\n",
    "                left_down = 0\n",
    "            else:\n",
    "                left_down = dp[k+1][j-1]\n",
    "            left = dp[k][j-1]\n",
    "            dp[k][j] = dp[k][j] + max(left_up, left_down, left)\n",
    "\n",
    "    result = 0\n",
    "    for x in range(n):\n",
    "        result = max(result, dp[x][m-1])\n",
    "    print(result)"
   ]
  },
  {
   "cell_type": "code",
   "execution_count": 15,
   "metadata": {},
   "outputs": [
    {
     "output_type": "stream",
     "name": "stdout",
     "text": [
      "2\n"
     ]
    }
   ],
   "source": [
    "#병사배치하기\n",
    "#아..진짜 도무지 알 수가 없다..........\n",
    "n = int(input())\n",
    "arr = list(map(int, input().split()))\n",
    "arr.reverse()\n",
    "\n",
    "dp = [1] * n\n",
    "\n",
    "for i in range(1, n):\n",
    "    for j in range(0, i):\n",
    "        if arr[j] < arr[i]:\n",
    "            dp[i] = max(dp[i], dp[j] + 1)\n",
    "print(n - max(dp))"
   ]
  },
  {
   "cell_type": "code",
   "execution_count": null,
   "metadata": {},
   "outputs": [],
   "source": [
    "import heapq\n",
    "\n",
    "INF = int(1e9) #무한 수 선언\n",
    "#노드의 개수, 간선의 개수 입력\n",
    "n, m = map(int, input().split())\n",
    "#시작 노드의 번호를 입력받는다.\n",
    "start = int(input())\n",
    "#각 노드에 연결된 노드에 대한 정보를 담는 \n",
    "#리스트를 만든다.\n",
    "graph = [[] for i in range(n + 1)]\n",
    "#최단 거리 테이블을 모두 무한으로 초기화\n",
    "distance = [INF] * (n+1)\n",
    "#모든 간선 정보를 입력받기\n",
    "for _ in range(m):\n",
    "  a, b, c = map(int, input().split())\n",
    "  #a->b로 가는 비용c를 정의\n",
    "  graph[a].append((b, c))\n",
    "  #print(graph[a])\n",
    "\n",
    "def dijkstra(start):\n",
    "  q = []\n",
    "  #시작 노드로 가기 위한 최단 경로는 0으로 설정\n",
    "  #큐에 삽입\n",
    "  heapq.heappush(q, (0, start))\n",
    "  distance[start] = 0\n",
    "  while q: #큐가 비어잇지 않다면\n",
    "    #가장 최단 거리가 짧은 노드에 대한 정보를 꺼내기\n",
    "    dist, now = heapq.heappop(q)\n",
    "    #현재 노드가 이미 처리된 적이 있는 노드라면 무시\n",
    "    if distance[now] < dist:\n",
    "      continue\n",
    "    #현재 노드와 연결된 다른 인접한 노드들을 확인\n",
    "    for i in graph[now]:\n",
    "      cost = dist + i[1]\n",
    "      #현재 노드를 거쳐서 다른 노드로 이동하는 거리가 더 짧은 경우\n",
    "      if cost < distance[i[0]]:\n",
    "        distance[i[0]] = cost\n",
    "        heapq.heappush(q, (cost, i[0]))\n",
    "\n",
    "#다익스트라 수행\n",
    "dijkstra(start)\n",
    "#모든 노드로 가기 위한 최단 거리를 출력\n",
    "for i in range(1, n+1):\n",
    "  #도달할 수 없는 경우, 무한이라고 출력한다.\n",
    "  if distance[i] == INF:\n",
    "    print('infinity')\n",
    "    #도달할 수 있는 경우 거리를 출력한다.\n",
    "  else:\n",
    "    print(distance[i])"
   ]
  },
  {
   "cell_type": "code",
   "execution_count": 1,
   "metadata": {},
   "outputs": [
    {
     "output_type": "stream",
     "name": "stdout",
     "text": [
      "0 4 8 6 \n3 0 7 9 \n5 9 0 4 \n7 11 2 0 \n"
     ]
    }
   ],
   "source": [
    "#플로이드-워셜 알고리즘\n",
    "#모든 노드에서 다른 모든 까지의 최단 경로를 모두 계산한다.\n",
    "#2차원 테이블에 최단 거리 정보를 저장한다.\n",
    "#플로이드워셜은 동적프로그래밍 유형에 속한다.\n",
    "#점화식을 잘 짜야한다 ^^&\n",
    "#간선의 개수가 적을때는 -> 플로이드 워셜\n",
    "#간선의 개수가 많을때는 -> 다익스트라\n",
    "INF = int(1e9) #무한값 정수 10억 선언\n",
    "\n",
    "n, m = map(int, input().split()) #노드의 개수 및 간선의 개수를 입력받기\n",
    "\n",
    "graph = [[INF] * (n+1) for _ in range(n+1)] #2차원 리스트를 만들고, 모든 값을 무한대로 초기화\n",
    "\n",
    "#자기 자신에서 자기 자신으로 가는 비용은 0으로 초기화\n",
    "for a in range(1, n+1):\n",
    "    for b in range(1, n+1):\n",
    "        if a == b:\n",
    "            graph[a][b] = 0\n",
    "#각 간선에 대한 정보를 입력받아, 그 값으로 초기화\n",
    "for _ in range(m):\n",
    "    a, b, c = map(int, input().split())\n",
    "    graph[a][b] = c\n",
    "#점화식에 따라 플로이드 워셜 알고리즘을 수행한다.\n",
    "for k in range(1, n+1):\n",
    "    for a in range(1, n+1):\n",
    "        for b in range(1, n+1):\n",
    "            graph[a][b] = min(graph[a][b], graph[a][k]+graph[k][b])\n",
    "#수행된 결과를 출력한다.\n",
    "for a in range(1,n+1):\n",
    "    for b in range(1,n+1):\n",
    "        if graph[a][b] == INF:\n",
    "            print(\"inf\", end=\" \")\n",
    "        else:\n",
    "            print(graph[a][b], end=\" \")\n",
    "    print()"
   ]
  },
  {
   "cell_type": "code",
   "execution_count": null,
   "metadata": {},
   "outputs": [],
   "source": [
    "#2번 미래도시 258p."
   ]
  },
  {
   "cell_type": "code",
   "execution_count": 2,
   "metadata": {},
   "outputs": [
    {
     "output_type": "stream",
     "name": "stdout",
     "text": [
      "[[], [(2, 4), (3, 2)], [], []]\n[1000000000, 0, 4, 2]\n2 4\n"
     ]
    }
   ],
   "source": [
    "#3번 전보문제 262p.\n",
    "\n",
    "import heapq\n",
    "#무한대 10억 값 설정\n",
    "INF = int(1e9)\n",
    "#n,m,start 입력받기\n",
    "n, m, start = map(int, input().split())\n",
    "#빈 그래프 리스트 생성\n",
    "graph = [[] for i in range(n + 1)]\n",
    "#거리 값 리스트 생성\n",
    "distance = [INF] * (n+1)\n",
    "#모든 간선정보 입력받기\n",
    "for _ in range(m):\n",
    "    x, y, z = map(int, input().split())\n",
    "    graph[x].append((y,z))\n",
    "\n",
    "print(graph)\n",
    "\n",
    "def dijkstra(start):\n",
    "    q = []\n",
    "    heapq.heappush(q, (0,start))\n",
    "    distance[start] = 0\n",
    "    while q:\n",
    "        dist, now = heapq.heappop(q)\n",
    "        if distance[now] < dist:\n",
    "            continue\n",
    "        for i in graph[now]:\n",
    "            cost = dist + i[1]\n",
    "            if cost < distance[i[0]]:\n",
    "                distance[i[0]] = cost\n",
    "                heapq.heappush(q, (cost, i[0]))              \n",
    "\n",
    "dijkstra(start)\n",
    "print(distance)\n",
    "\n",
    "cnt = 0\n",
    "max_dist = 0\n",
    "for d in distance:\n",
    "    if d != INF:\n",
    "        cnt += 1\n",
    "        max_dist = max(d, max_dist)\n",
    "print(cnt-1, max_dist)"
   ]
  },
  {
   "cell_type": "code",
   "execution_count": 9,
   "metadata": {},
   "outputs": [
    {
     "output_type": "stream",
     "name": "stdout",
     "text": [
      "(0) (infinity) (1) (infinity) \n(infinity) (0) (infinity) (1) \n(1) (infinity) (0) (infinity) \n(infinity) (1) (infinity) (0) \n-1\n"
     ]
    }
   ],
   "source": [
    "#02번 문제: 미래도시\n",
    "\n",
    "INF = int(1e9) #무한대 변수 정의\n",
    "#노드와 간선의 개수 입력\n",
    "n, m = map(int, input(\"노드와 간선의 개수 입력\").split())\n",
    "#무한대값으로 초기화된 리스트 선언\n",
    "graph = [[INF]*(n+1) for _ in range(n + 1)]\n",
    "#출발과 도착노드가 일치하는 경우, 0으로 초기화해준다.\n",
    "for a in range(n + 1):\n",
    "    for b in range(n + 1): \n",
    "        if a == b:\n",
    "            graph[a][b] = 0\n",
    "#간선 정보를 입력받고, 거리가 1이므로, 입력된 정보에 따라 1을 채워넣는다.\n",
    "for _ in range(m):\n",
    "    a, b = map(int, input(\"간선정보 입력\").split())\n",
    "    graph[a][b] = 1\n",
    "    graph[b][a] = 1\n",
    "#중간지점 k와 도착지점 x를 입력받는다.\n",
    "x, k = map(int, input(\"도착지점x와 중간지점k를 입력하세요.\").split())\n",
    "#플로이드워셜 알고리즘을 수행한다.\n",
    "for k in range(1, n+1):\n",
    "    for a in range(1, n+1):\n",
    "        for b in range(1, n+1):\n",
    "            graph[a][b] = min(graph[a][b], graph[a][k] + graph[k][b])\n",
    "\n",
    "for a in range(1, n+1):\n",
    "    for b in range(1, n+1):\n",
    "        if graph[a][b] == INF:\n",
    "            print(\"(infinity)\", end=\" \")\n",
    "        else:\n",
    "            print(f\"({graph[a][b]})\", end=\" \")\n",
    "    print()\n",
    "\n",
    "#최종 그래프에 찍힌 값을 토대로 k를 거쳐 x로 가기위한 정보를 출력한다.\n",
    "distance = graph[1][k] + graph[k][x]\n",
    "\n",
    "if distance >= INF:\n",
    "    print(\"-1\")\n",
    "else:\n",
    "    print(distance)"
   ]
  },
  {
   "cell_type": "code",
   "execution_count": null,
   "metadata": {},
   "outputs": [],
   "source": []
  }
 ]
}