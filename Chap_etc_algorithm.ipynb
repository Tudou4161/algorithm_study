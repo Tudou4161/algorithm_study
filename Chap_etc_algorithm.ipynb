{
 "metadata": {
  "language_info": {
   "codemirror_mode": {
    "name": "ipython",
    "version": 3
   },
   "file_extension": ".py",
   "mimetype": "text/x-python",
   "name": "python",
   "nbconvert_exporter": "python",
   "pygments_lexer": "ipython3",
   "version": "3.8.2-final"
  },
  "orig_nbformat": 2,
  "kernelspec": {
   "name": "Python 3.8.2 64-bit",
   "display_name": "Python 3.8.2 64-bit",
   "metadata": {
    "interpreter": {
     "hash": "2db524e06e9f5f4ffedc911c917cb75e12dbc923643829bf417064a77eb14d37"
    }
   }
  }
 },
 "nbformat": 4,
 "nbformat_minor": 2,
 "cells": [
  {
   "cell_type": "code",
   "execution_count": 3,
   "metadata": {},
   "outputs": [
    {
     "output_type": "stream",
     "name": "stdout",
     "text": [
      "True\nFalse\n"
     ]
    }
   ],
   "source": [
    "#소수판별 알고리즘1(루프만 사용)\n",
    "import math\n",
    "\n",
    "def is_prime(x):\n",
    "    for i in range(2, x):\n",
    "        if x % i == 0: #자기자신과 i를 나눴을 때 나눠떨어지면 -> 소수가 아님\n",
    "            return False\n",
    "    return True\n",
    "\n",
    "print(is_prime(7))\n",
    "print(is_prime(4))"
   ]
  },
  {
   "cell_type": "code",
   "execution_count": 4,
   "metadata": {},
   "outputs": [
    {
     "output_type": "stream",
     "name": "stdout",
     "text": [
      "True\nFalse\n"
     ]
    }
   ],
   "source": [
    "#소수판별 알고리즘2\n",
    "import math\n",
    "\n",
    "def is_prime(x):\n",
    "    for i in range(2, int(math.sqrt(x)) + 1):\n",
    "        if x % i == 0: #자기자신과 i를 나눴을 때 나눠떨어지면 -> 소수가 아님\n",
    "            return False\n",
    "    return True\n",
    "\n",
    "print(is_prime(7))\n",
    "print(is_prime(4))"
   ]
  },
  {
   "cell_type": "code",
   "execution_count": 8,
   "metadata": {},
   "outputs": [
    {
     "output_type": "stream",
     "name": "stdout",
     "text": [
      "2 3 5 7 11 13 17 19 23 29 31 37 41 43 47 53 59 61 67 71 73 79 83 89 97 "
     ]
    }
   ],
   "source": [
    "#소수판별 알고리즘2(에라토스테네스의 체)\n",
    "import math\n",
    "\n",
    "n = 100\n",
    "arr = [True for _ in range(n+1)]\n",
    "\n",
    "for i in range(2, int(math.sqrt(n))+1):\n",
    "    if arr[i] == True:\n",
    "        j = 2\n",
    "        while i * j <= n:\n",
    "            arr[i * j] = False\n",
    "            j += 1\n",
    "\n",
    "for i in range(2, n+1):\n",
    "    if arr[i]:\n",
    "        print(i, end=' ')"
   ]
  },
  {
   "cell_type": "code",
   "execution_count": 11,
   "metadata": {},
   "outputs": [
    {
     "output_type": "stream",
     "name": "stdout",
     "text": [
      "3\n"
     ]
    }
   ],
   "source": [
    "#Two pointers 투 포인터 알고리즘\n",
    "#리스트에 순차적으로 접근해야 할 때 두 개의 점의 위치를 기록하면서 처리하는 알고리즘이다..\n",
    "\n",
    "#특정한 합을 가지는 부분 연속 수열 찾기\n",
    "#합이 M인 부분 연속 수열의 개수를 구해보자, N개의 자연수로 구성된 수열을 선언한다.\n",
    "\n",
    "n = 5\n",
    "m = 5 \n",
    "data = [1,2,3,2,5]\n",
    "\n",
    "cnt = 0 \n",
    "interval_sum = 0  #현재 부분합의 값\n",
    "end = 0\n",
    "\n",
    "for start in range(n):\n",
    "    while interval_sum < m and end < n: #현재 부분합이 m보다 작거나, end값이 n보다 크지 않을 때\n",
    "        interval_sum += data[end]\n",
    "        end += 1\n",
    "    if interval_sum == m:\n",
    "        cnt += 1\n",
    "    interval_sum -= data[start]\n",
    "\n",
    "print(cnt)\n",
    "    "
   ]
  },
  {
   "cell_type": "code",
   "execution_count": 12,
   "metadata": {},
   "outputs": [
    {
     "output_type": "stream",
     "name": "stdout",
     "text": [
      "70\n"
     ]
    }
   ],
   "source": [
    "n = 5\n",
    "data = [10,20,30,40,50]\n",
    "\n",
    "sum_val = 0\n",
    "prefix_sum = [0]\n",
    "\n",
    "for i in data:\n",
    "    sum_val += i\n",
    "    prefix_sum.append(sum_val)\n",
    "\n",
    "left = 3\n",
    "right = 4\n",
    "print(prefix_sum[right] - prefix_sum[left-1])"
   ]
  }
 ]
}