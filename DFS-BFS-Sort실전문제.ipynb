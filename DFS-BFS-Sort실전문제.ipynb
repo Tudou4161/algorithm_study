{
 "metadata": {
  "language_info": {
   "codemirror_mode": {
    "name": "ipython",
    "version": 3
   },
   "file_extension": ".py",
   "mimetype": "text/x-python",
   "name": "python",
   "nbconvert_exporter": "python",
   "pygments_lexer": "ipython3",
   "version": "3.8.2-final"
  },
  "orig_nbformat": 2,
  "kernelspec": {
   "name": "Python 3.8.2 64-bit",
   "display_name": "Python 3.8.2 64-bit",
   "metadata": {
    "interpreter": {
     "hash": "2db524e06e9f5f4ffedc911c917cb75e12dbc923643829bf417064a77eb14d37"
    }
   }
  }
 },
 "nbformat": 4,
 "nbformat_minor": 2,
 "cells": [
  {
   "cell_type": "code",
   "execution_count": null,
   "metadata": {},
   "outputs": [],
   "source": [
    "#Q15. 특정 거리의 도시 찾기\n",
    "#BFS로 간단하게 해결할 수 있다? \n",
    "from collections import deque\n",
    "\n",
    "#입력값 받기 및 최단거리 리스트 갱신\n",
    "n, m, k, x = map(int, input().split())\n",
    "graph = [[] for _ in range(n + 1)]\n",
    "\n",
    "for _ in range(m):\n",
    "    a, b = map(int, input().split())\n",
    "    graph[a].append(b)\n",
    "\n",
    "#거리 리스트 갱신하기\n",
    "distance = [-1] * (n + 1)\n",
    "distance[x] = 0\n",
    "\n",
    "#BFS구현\n",
    "q = deque([x])\n",
    "\n",
    "while q:\n",
    "    now = q.popleft()\n",
    "    #루프 문을 통해 현재 도시에서 이동할 수 있는 다른 도시 확인하기\n",
    "    for next_node in graph[now]:\n",
    "        #만약 아직 방문하지 않은 도시라면...?\n",
    "        if distance[next_node] == -1:\n",
    "            #최단 거리 갱신하기\n",
    "            distance[next_node] = distance[now] + 1\n",
    "            q.append(next_node)\n",
    "\n",
    "#최단 거리가 k인 모든 도시의 번호를 오름차순으로 출력한다.\n",
    "check = False\n",
    "for i in range(1, n+1):\n",
    "    if distance[i] == k:\n",
    "        print(i)\n",
    "        check = True\n",
    "#만약 최단 거리가 k인 도시가 없다면, -1을 출력한다\n",
    "if check == False:\n",
    "    print(-1)"
   ]
  },
  {
   "cell_type": "code",
   "execution_count": null,
   "metadata": {},
   "outputs": [],
   "source": [
    "#Q16. 연구소\n",
    "#이건...진짜 ㅅㅂ이다....ㅎㅎㅎ...^^\n",
    "\n",
    "n, m = map(int, input().split())\n",
    "data = []  #초기 맵 리스트\n",
    "temp = [[0] * m for _ in range(n)] #벽을 설치한 뒤의 맵 리스트\n",
    "\n",
    "for _ in range(n):\n",
    "    data.append(list(map(int, input().split())))\n",
    "\n",
    "#좌우상하 방향 백터 정의\n",
    "dx = [-1, 0, 1, 0]\n",
    "dy = [0, 1, 0, -1]\n",
    "\n",
    "result = 0\n",
    "\n",
    "def virus(x, y): #깊이 우선 탐색을 이용해 각 바이러스가 사방으로 퍼지도록 하기\n",
    "    for i in range(4):\n",
    "        nx = x + dx[i]\n",
    "        ny = y + dy[i]\n",
    "        #상하좌우 중에서 바이러스가 퍼질 수 있는 경우\n",
    "        if nx >= 0 and nx < n and ny >= 0 and ny < m:\n",
    "            if temp[nx][ny] == 0:\n",
    "                #해당 위치에 바이러스를 배치하고, 재귀적으로 동작 수행하기\n",
    "                temp[nx][ny] = 2\n",
    "                virus(nx, ny)\n",
    "\n",
    "def get_score(): #현재 맵에서 안전 영역의 크기 계산하는 메소드\n",
    "    score = 0\n",
    "    for i in range(n):\n",
    "        for j in range(m):\n",
    "            if temp[i][j] == 0:\n",
    "                score += 1\n",
    "    return score\n",
    "\n",
    "def dfs(conut): #dfs를 이용해 울타리를 설치하면서, 매번 안전 영역의 크기를 계산한다.\n",
    "    global result\n",
    "\n",
    "    if count == 3: #울타리가 3개 설치된 경우\n",
    "        for i in range(n):\n",
    "            for j in range(m):\n",
    "                temp[i][j] = data[i][j]\n",
    "        #각 바이러스의 위치에서 전파 진행\n",
    "        for i in range(n):\n",
    "            for j in range(m):\n",
    "                if temp[i][j] == 2:\n",
    "                    virus(i, j)\n",
    "        #안전 영역의 최대값 계산하기\n",
    "        result = max(result, get_score())\n",
    "        return\n",
    "    #빈 공간에 울타리 설치하기\n",
    "    for i in range(n):\n",
    "        for j in range(m):\n",
    "            if data[i][j] == 0:\n",
    "                data[i][j] = 1\n",
    "                count += 1\n",
    "                dfs(count)\n",
    "                data[i][j] = 0\n",
    "                count -= 1\n",
    "\n",
    "dfs(0)\n",
    "print(result)"
   ]
  },
  {
   "cell_type": "code",
   "execution_count": 17,
   "metadata": {},
   "outputs": [
    {
     "output_type": "stream",
     "name": "stdout",
     "text": [
      "원섭\n영석\n연명\n상민\n선용\n상준\n세이\n상현\n종규\n세준\n"
     ]
    }
   ],
   "source": [
    "#Q23. 국영수 -> 정답풀이 ..ㅅㅅ.. 존나 간단함..\n",
    "n = int(input())\n",
    "student = []\n",
    "for _ in range(n):\n",
    "    student.append(input().split())\n",
    "\n",
    "student.sort(key=lambda x : (-int(x[1]), int(x[2]), -int(x[3]), x[0]))\n",
    "\n",
    "for s in student:\n",
    "    print(s[0])"
   ]
  },
  {
   "cell_type": "code",
   "execution_count": 16,
   "metadata": {},
   "outputs": [
    {
     "output_type": "stream",
     "name": "stdout",
     "text": [
      "5\n수행시간은:  0.0  sec\n"
     ]
    }
   ],
   "source": [
    "#Q24. 안테나 -> 내 풀이...\n",
    "import operator\n",
    "import time\n",
    "\n",
    "#퀵정렬로 안테나 위치를 정렬시킨다.\n",
    "def QuickSort(arr):\n",
    "    if len(arr) <= 1 :\n",
    "        return arr\n",
    "    pivot = arr[0]\n",
    "    done = arr[1:]\n",
    "\n",
    "    left_side = [x for x in done if x <= pivot]\n",
    "    right_side = [x for x in done if x > pivot]\n",
    "\n",
    "    return QuickSort(left_side) + [pivot] + QuickSort(right_side)\n",
    "\n",
    "\n",
    "if __name__ == \"__main__\":\n",
    "    start = time.time()\n",
    "    # x = int(input()) #안테나 개수 입력받기\n",
    "    # place = list(map(int, input().split())) #안테나 위치 후보군 리스트 입력\n",
    "    x = 4\n",
    "    place = [5, 1, 7, 9]\n",
    "\n",
    "    place = QuickSort(place) #위치를 퀵정렬하기\n",
    "    \n",
    "    distance = {} #각 안테나 위치의 최소 거리를 담고, 빠르게 탐색하기 위해 distance딕셔너리를 선언한다.\n",
    "\n",
    "    for i in place:\n",
    "        sum_ = 0 \n",
    "        for k in place:\n",
    "            sum_ = sum_ + abs(i - k) \n",
    "        distance[i] = sum_\n",
    "    \n",
    "    distance = sorted(distance.items(), key=operator.itemgetter(1))\n",
    "\n",
    "    print(distance[0][0])\n",
    "    print(\"수행시간은: \", time.time()-start,\" sec\")\n"
   ]
  },
  {
   "cell_type": "code",
   "execution_count": 15,
   "metadata": {},
   "outputs": [
    {
     "output_type": "stream",
     "name": "stdout",
     "text": [
      "3\n수행시간은:  6.784387111663818  sec\n"
     ]
    }
   ],
   "source": [
    "#Q24. 안테나 -> 정답풀이... 머리가 나쁘면...손이 고생한다.. ㅎㅎ\n",
    "import time\n",
    "start = time.time()\n",
    "n = int(input())\n",
    "data = QuickSort(list(map(int, input().split())))\n",
    "\n",
    "print(data[(n-1) // 2])\n",
    "print(\"수행시간은: \", time.time()-start,\" sec\")\n"
   ]
  }
 ]
}