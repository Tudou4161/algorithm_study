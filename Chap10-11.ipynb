{
 "metadata": {
  "language_info": {
   "codemirror_mode": {
    "name": "ipython",
    "version": 3
   },
   "file_extension": ".py",
   "mimetype": "text/x-python",
   "name": "python",
   "nbconvert_exporter": "python",
   "pygments_lexer": "ipython3",
   "version": "3.8.2-final"
  },
  "orig_nbformat": 2,
  "kernelspec": {
   "name": "Python 3.8.2 64-bit",
   "display_name": "Python 3.8.2 64-bit",
   "metadata": {
    "interpreter": {
     "hash": "2db524e06e9f5f4ffedc911c917cb75e12dbc923643829bf417064a77eb14d37"
    }
   }
  }
 },
 "nbformat": 4,
 "nbformat_minor": 2,
 "cells": [
  {
   "cell_type": "code",
   "execution_count": 1,
   "metadata": {},
   "outputs": [
    {
     "output_type": "stream",
     "name": "stdout",
     "text": [
      "각 원소가 속한 집합 111155\n부모 테이블: 1 1 1 1 5 5 "
     ]
    }
   ],
   "source": [
    "#서로소 집합 자료구조\n",
    "#서로 노드번호-부모로 정리된 리스트를 선언\n",
    "#큰 녀석을 작은 녀석의 자녀로 넣는다. (작은 놈이 부모임 ㅇㅇ 국룰이라고 하네 ㅇㅇ)\n",
    "#루트노드를 찾을 수 있도록 설계해야한다.(재귀적 설계)\n",
    "\n",
    "def find_parent(parent, x):\n",
    "    if parent[x] != x: \n",
    "        parent[x] = find_parent(parent, parent[x])\n",
    "    return parent[x]\n",
    "\n",
    "def union_parent(parent, a, b):\n",
    "    a = find_parent(parent, a)\n",
    "    b = find_parent(parent, b)\n",
    "    if a < b:\n",
    "        parent[b] = a\n",
    "    else:\n",
    "        parent[a] = b\n",
    "\n",
    "\n",
    "v, e = map(int, input().split())\n",
    "parent = [0] * (v+1)\n",
    "\n",
    "for i in range(1, v+1):\n",
    "    parent[i] = i\n",
    "\n",
    "for i in range(e):\n",
    "    a, b = map(int, input().split())\n",
    "    union_parent(parent, a, b)\n",
    "\n",
    "print(\"각 원소가 속한 집합 \", end='')\n",
    "for i in range(1, v+1):\n",
    "    print(find_parent(parent, i), end='')\n",
    "\n",
    "print()\n",
    "\n",
    "print(\"부모 테이블: \", end='')\n",
    "for i in range(1, v+1):\n",
    "    print(parent[i], end=' ')\n"
   ]
  },
  {
   "cell_type": "code",
   "execution_count": 2,
   "metadata": {},
   "outputs": [
    {
     "output_type": "stream",
     "name": "stdout",
     "text": [
      "싸이클이 발생했습니다.\n"
     ]
    }
   ],
   "source": [
    "#서로소 그래프로 싸이클 판별하기\n",
    "def find_parent(parent, x):\n",
    "    if parent[x] != x:\n",
    "        parent[x] = find_parent(parent, parent[x])\n",
    "    return parent[x]\n",
    "\n",
    "def union_parent(parent, a, b):\n",
    "    a = find_parent(parent, a)\n",
    "    b = find_parent(parent, b)\n",
    "    if a < b:\n",
    "        parent[b] = a\n",
    "    else:\n",
    "        parent[a] = b\n",
    "\n",
    "v, e = map(int, input().split())\n",
    "parent = [0] * (v+1)\n",
    "\n",
    "for i in range(1, v+1):\n",
    "    parent[i] = i\n",
    "\n",
    "is_cycle = False\n",
    "for i in range(e):\n",
    "    a, b = map(int, input().split())\n",
    "    if find_parent(parent, a) == find_parent(parent, b):\n",
    "        is_cycle = True\n",
    "        break\n",
    "    else:\n",
    "        union_parent(parent, a, b)\n",
    "\n",
    "\n",
    "if is_cycle:\n",
    "    print(\"싸이클이 발생했습니다.\")\n",
    "else:\n",
    "    print(\"싸이클이 발생하지 않았습니다.\")"
   ]
  },
  {
   "cell_type": "code",
   "execution_count": 7,
   "metadata": {},
   "outputs": [
    {
     "output_type": "stream",
     "name": "stdout",
     "text": [
      "0\n"
     ]
    }
   ],
   "source": [
    "#신장트리 -> 싸이클이 존재하지 않는 부분 그래프를 의미한다.\n",
    "#모든 노드가 포함되어 서로 연결되면서 사이클이 존재하지 않는다는 조건은 트리의 조건이기도 하다.\n",
    "\n",
    "#1. 간선-비용 테이블 리스트 선언\n",
    "#2. 그래프의 모든 간선정보에 대해 오름차순 정렬을 수행(간선에 따라 나열)\n",
    "#3. 짧은 간선부터 순차적으로 처리\n",
    "\n",
    "#특정 원소가 속한 집합을 찾기\n",
    "def find_parent(parent, x):\n",
    "    if parent[x] != x:\n",
    "        parent[x] = find_parent(parent, parent[x])\n",
    "        return parent[x]\n",
    "\n",
    "#두 원소가 속한 집합을 합치기\n",
    "def union_parent(parent, a, b):\n",
    "    a = find_parent(parent, a)\n",
    "    b = find_parent(parent, b)\n",
    "    if a < b:\n",
    "        parent[b] = a\n",
    "    else:\n",
    "        parent[a] = b\n",
    "\n",
    "#노드의 개수와 간선의 개수 입력 받기\n",
    "v, e = map(int, input().split())\n",
    "parent = [0] * (v+1)\n",
    "#모든 간선을 담을 리스트와 최종 비용을 담을 변수\n",
    "result = 0\n",
    "edges = []\n",
    "#부모 테이블 상에서 부모를 자기 자신으로 초기화\n",
    "for i in range(1, v+1):\n",
    "    parent[i] = i\n",
    "#모든 간선에 대한 정보를 입력받는다.\n",
    "for _ in range(e):\n",
    "    a, b, cost = map(int, input().split())\n",
    "    edges.append((cost, a, b))\n",
    "#비용순으로 간선 정렬\n",
    "edges.sort()\n",
    "\n",
    "for edge in edges:\n",
    "    cost, a, b = edge\n",
    "    if find_parent(parent, a) != find_parent(parent, b):\n",
    "        union_parent(parent, a, b)\n",
    "        result += cost\n",
    "\n",
    "print(result)"
   ]
  },
  {
   "cell_type": "code",
   "execution_count": 8,
   "metadata": {},
   "outputs": [
    {
     "output_type": "stream",
     "name": "stdout",
     "text": [
      "1 2 5 3 6 4 7 "
     ]
    }
   ],
   "source": [
    "#위상정렬 구현하기\n",
    "#큐를 이용해서 구현\n",
    "#1. 진입차수가 0인 모든 노드를 큐에 넣는다\n",
    "#2. 큐가 빌 때 까지 아래의 과정 반복\n",
    "    #2-1> 큐에서 원소를 꺼내 해당 노드에서 나가는 간선을 그래프에서 제거한다.\n",
    "    #2-2> 새롭게 진입차수가 0이 된 노드를 큐에 넣는다.\n",
    "\n",
    "#위상정렬은 순환하지 않는 방향 그래프에서만 적용할 수 있다.\n",
    "\n",
    "from collections import deque\n",
    "\n",
    "v, e = map(int, input().split())\n",
    "indegree = [0] * (v+1)\n",
    "graph = [[] for i in range(v+1)]\n",
    "\n",
    "for _ in range(e):\n",
    "    a, b = map(int, input().split())\n",
    "    graph[a].append(b)\n",
    "    indegree[b] += 1\n",
    "\n",
    "\n",
    "def topology_sort():\n",
    "    res = []\n",
    "    q = deque()\n",
    "\n",
    "    for i in range(1, v+1):\n",
    "        if indegree[i] == 0:\n",
    "            q.append(i)\n",
    "\n",
    "    while q:\n",
    "        now = q.popleft()\n",
    "        res.append(now)\n",
    "        for i in graph[now]:\n",
    "            indegree[i] -= 1\n",
    "            if indegree[i] == 0:\n",
    "                q.append(i)\n",
    "\n",
    "    for i in res:\n",
    "        print(i, end=' ')\n",
    "\n",
    "\n",
    "topology_sort()\n",
    "        "
   ]
  },
  {
   "cell_type": "code",
   "execution_count": null,
   "metadata": {},
   "outputs": [],
   "source": []
  }
 ]
}