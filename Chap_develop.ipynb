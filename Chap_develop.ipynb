{
 "metadata": {
  "language_info": {
   "codemirror_mode": {
    "name": "ipython",
    "version": 3
   },
   "file_extension": ".py",
   "mimetype": "text/x-python",
   "name": "python",
   "nbconvert_exporter": "python",
   "pygments_lexer": "ipython3",
   "version": "3.8.2-final"
  },
  "orig_nbformat": 2,
  "kernelspec": {
   "name": "Python 3.8.2 64-bit",
   "display_name": "Python 3.8.2 64-bit",
   "metadata": {
    "interpreter": {
     "hash": "2db524e06e9f5f4ffedc911c917cb75e12dbc923643829bf417064a77eb14d37"
    }
   }
  }
 },
 "nbformat": 4,
 "nbformat_minor": 2,
 "cells": [
  {
   "cell_type": "code",
   "execution_count": 1,
   "metadata": {},
   "outputs": [
    {
     "output_type": "stream",
     "name": "stdout",
     "text": [
      "{\n    \"id\": \"ys123\",\n    \"password\": \"123\",\n    \"age\": 30,\n    \"hobby\": [\n        \"football\",\n        \"coding\"\n    ]\n}\n"
     ]
    }
   ],
   "source": [
    "#json format실습\n",
    "import json\n",
    "\n",
    "user = {\n",
    "    \"id\" : \"ys123\",\n",
    "    \"password\":\"123\",\n",
    "    \"age\":30,\n",
    "    \"hobby\":[\"football\", \"coding\"]\n",
    "}\n",
    "\n",
    "json_data = json.dumps(user, indent=4)\n",
    "print(json_data)"
   ]
  },
  {
   "cell_type": "code",
   "execution_count": 2,
   "metadata": {},
   "outputs": [],
   "source": [
    "#json객체 파일 저장 예제\n",
    "import json\n",
    "\n",
    "user = {\n",
    "    \"id\" : \"ys123\",\n",
    "    \"password\":\"123\",\n",
    "    \"age\":30,\n",
    "    \"hobby\":[\"football\", \"coding\"]\n",
    "}\n",
    "\n",
    "with open(\"user.json\", \"w\", encoding=\"utf-8\") as file:\n",
    "    json.dump(user, file, indent=4)"
   ]
  },
  {
   "cell_type": "code",
   "execution_count": null,
   "metadata": {},
   "outputs": [],
   "source": [
    "#rest api를 호출하여 회원정보를 처리하는 예시\n",
    "import requests\n",
    "\n",
    "#rest api경로에 접속하여 응답 데이터 받아오기\n",
    "target = \"https://jsonplaceholder.typicode.com/users\"\n",
    "response = requests.get(url=target)\n",
    "\n",
    "#응답 데이터가 json형식이므로 바로 파이썬 객체로 반환\n",
    "data = response.json()\n",
    "\n",
    "#모든 사용자 정보를 확인하여 이름 정보만 삽입\n",
    "name_list = []\n",
    "for user in data:\n",
    "    name_list.append(user[\"name\"])\n",
    "\n",
    "print(name_list)"
   ]
  }
 ]
}